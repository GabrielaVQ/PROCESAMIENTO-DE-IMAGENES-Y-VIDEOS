{
 "cells": [
  {
   "cell_type": "code",
   "execution_count": null,
   "metadata": {},
   "outputs": [],
   "source": [
    "##Comando para instalar OpenCv\n",
    "#!pip install opencv-contrib-python"
   ]
  },
  {
   "cell_type": "code",
   "execution_count": 11,
   "metadata": {},
   "outputs": [],
   "source": [
    "##Importamos las librerías:\n",
    "#Librería de OpenCV\n",
    "import cv2"
   ]
  },
  {
   "cell_type": "code",
   "execution_count": 12,
   "metadata": {},
   "outputs": [],
   "source": [
    "#Detección de rostros\n",
    "faceClassif = cv2.CascadeClassifier('haarcascade_frontalface.xml')\n",
    "\n",
    "image = cv2.imread('paisaje.jpg')\n",
    "\n",
    "faces = faceClassif.detectMultiScale(image,\n",
    "    scaleFactor=1.1,\n",
    "    minNeighbors=5,\n",
    "    minSize=(30,30),#Minimo tamaño de rostros\n",
    "    maxSize=(200,200))#Maximo tamaño de rostros\n",
    "\n",
    "for (x,y,w,h) in faces:\n",
    "    cv2.rectangle(image,(x,y),(x+w,y+h),(0,255,0),2)\n",
    "cv2.imshow('DETECCION DE ROSTROS',image)\n",
    "cv2.waitKey(0)\n",
    "cv2.destroyAllWindows()"
   ]
  },
  {
   "cell_type": "code",
   "execution_count": 16,
   "metadata": {},
   "outputs": [],
   "source": [
    "##TRACKBAR\n",
    "#Función para el trackbar (En este caso no usaremos una función, por tanto solo estará de auxiliar)\n",
    "def nothing(x):\n",
    "    pass\n",
    "\n",
    "image = cv2.imread('paisaje.jpg')\n",
    "cv2.namedWindow('TRACKBAR')#nombre de la ventana\n",
    "#Creamos la barra: nombre de la barra, nombre de la ventana donde se agregará, valor inicial de perilla, valor máximo de perilla, funcion a llamar cuando se mueve la perilla\n",
    "cv2.createTrackbar('Nivel','TRACKBAR',0,15,nothing)\n",
    "while True:\n",
    "    #Obtenemos el valor de la posición de la perilla\n",
    "    val = cv2.getTrackbarPos('Nivel','TRACKBAR')#Nombre del trackbar, Nombre de la ventana\n",
    "    if val > 0:\n",
    "        image_b=cv2.blur(image.copy(),(val,val))#Imagen a difuminar, valor de difuminación del kernel\n",
    "        cv2.putText(image_b,str(val),(100,100),cv2.FONT_HERSHEY_SIMPLEX,0.9,(255,0,0),2,cv2.LINE_AA)#Visualiza valor de laposicion de la perilla\n",
    "    else: image_b=image\n",
    "    \n",
    "    #Mostramos la imagen    \n",
    "    cv2.imshow('TRACKBAR',image_b)\n",
    "    #Detenemos la ejecución cuando se presiones una tecla\n",
    "    k=cv2.waitKey(1)#Restraso de 1ms al presionar tecla\n",
    "    if k==27:\n",
    "        break\n",
    "cv2.destroyAllWindows()    "
   ]
  },
  {
   "cell_type": "code",
   "execution_count": 18,
   "metadata": {},
   "outputs": [],
   "source": [
    "#Rostros borrosos\n",
    "\n",
    "def nothing(x):\n",
    "    pass\n",
    "\n",
    "image = cv2.imread('paisaje.jpg')\n",
    "faceClassif = cv2.CascadeClassifier('haarcascade_frontalface.xml')\n",
    "cv2.namedWindow('DIFUMINACION')\n",
    "cv2.createTrackbar('Nivel','DIFUMINACION',0,15,nothing)\n",
    "\n",
    "c=0 #Contador para guardar imagen\n",
    "\n",
    "while True:\n",
    "    val = cv2.getTrackbarPos('Nivel','DIFUMINACION')\n",
    "    faces = faceClassif.detectMultiScale(image, 1.1, 5)\n",
    "    imageN=image.copy()\n",
    "    for (x,y,w,h) in faces:\n",
    "        if val > 0:\n",
    "            imageN[y:y+h,x:x+w] = cv2.blur(imageN[y:y+h,x:x+w],(val,val))\n",
    "\n",
    "    cv2.imshow('DIFUMINACION',imageN)\n",
    "    \n",
    "    k = cv2.waitKey(1)\n",
    "    \n",
    "    #Para guardar imagen:\n",
    "    if k == 32:#Tecla esc=27, tecla espacio=32\n",
    "        cv2.imwrite('img_'+str(c)+'.jpg',imageN)\n",
    "        c=c+1 #Contador para guardar imagen\n",
    "    \n",
    "    #Para salir del ciclo:\n",
    "    if k == 27:\n",
    "        break\n",
    "    \n",
    "cv2.destroyAllWindows()\n"
   ]
  },
  {
   "cell_type": "code",
   "execution_count": null,
   "metadata": {},
   "outputs": [],
   "source": []
  }
 ],
 "metadata": {
  "kernelspec": {
   "display_name": "Python 3",
   "language": "python",
   "name": "python3"
  },
  "language_info": {
   "codemirror_mode": {
    "name": "ipython",
    "version": 3
   },
   "file_extension": ".py",
   "mimetype": "text/x-python",
   "name": "python",
   "nbconvert_exporter": "python",
   "pygments_lexer": "ipython3",
   "version": "3.7.3"
  }
 },
 "nbformat": 4,
 "nbformat_minor": 2
}
